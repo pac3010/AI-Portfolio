{
  "nbformat": 4,
  "nbformat_minor": 0,
  "metadata": {
    "colab": {
      "provenance": []
    },
    "kernelspec": {
      "name": "python3",
      "display_name": "Python 3"
    },
    "language_info": {
      "name": "python"
    }
  },
  "cells": [
    {
      "cell_type": "markdown",
      "metadata": {
        "id": "tD1dCGY2JNXI"
      },
      "source": [
        "# NLP_01 Lab 1 - Regular Expression (Regex)\n",
        "> Library untuk pengenalan dan pengelolaan pola pada teks\n",
        ">\n",
        "\n",
        "Contoh implementasi:\n",
        "- Pola Email\n",
        "- Pola Nomor telepon\n",
        "- Pola url\n",
        "- Pola Nomor plat kendaraan bermotor\n",
        "- Menghilangkan karakter khusus pada teks\n",
        "- dll."
      ]
    },
    {
      "cell_type": "markdown",
      "metadata": {
        "id": "G0BL3jxVVM7m"
      },
      "source": [
        "---"
      ]
    },
    {
      "cell_type": "code",
      "metadata": {
        "id": "cckM0ieQI6_p"
      },
      "source": [
        "# Import Library Regex (re)\n",
        "import re\n",
        "\n",
        "# Pola Email\n",
        "email_pattern = re.compile(r'[\\w._%+-]+@[\\w\\.-]+\\.[a-zA-Z]{2,4}')\n",
        "\n",
        "txt = 'Contact kami di admin@thenextyunikorn.id, sales@yunikornbaru.com, atau hrd@yunikornindo.id'"
      ],
      "execution_count": null,
      "outputs": []
    },
    {
      "cell_type": "code",
      "source": [
        "txt"
      ],
      "metadata": {
        "id": "BeTRH3j2PZ3b",
        "outputId": "66aa5697-35d5-44e9-fefb-48f60f38a612",
        "colab": {
          "base_uri": "https://localhost:8080/",
          "height": 36
        }
      },
      "execution_count": null,
      "outputs": [
        {
          "output_type": "execute_result",
          "data": {
            "text/plain": [
              "'Contact kami di admin@thenextyunikorn.id, sales@yunikornbaru.com, atau hrd@yunikornindo.id'"
            ],
            "application/vnd.google.colaboratory.intrinsic+json": {
              "type": "string"
            }
          },
          "metadata": {},
          "execution_count": 2
        }
      ]
    },
    {
      "cell_type": "markdown",
      "metadata": {
        "id": "-vfDDYYyXzjB"
      },
      "source": [
        "# Pola Email"
      ]
    },
    {
      "cell_type": "code",
      "metadata": {
        "id": "eHLVDWodMsfQ",
        "outputId": "a3ca8847-a93b-462d-b18b-f4bf4062212c",
        "colab": {
          "base_uri": "https://localhost:8080/"
        }
      },
      "source": [
        "# Menghapus Email dalam teks\n",
        "print( re.sub(email_pattern, ' ', txt))"
      ],
      "execution_count": null,
      "outputs": [
        {
          "output_type": "stream",
          "name": "stdout",
          "text": [
            "Contact kami di  ,  , atau  \n"
          ]
        }
      ]
    },
    {
      "cell_type": "code",
      "metadata": {
        "id": "dgmUPJv2Mp_T",
        "outputId": "e888be77-9434-433d-9bf6-014625b62307",
        "colab": {
          "base_uri": "https://localhost:8080/"
        }
      },
      "source": [
        "# Mengambil email dari teks berdasarkan pola regex yang ditentukan\n",
        "emails = re.findall(email_pattern, txt)\n",
        "print( 'Email yang ditemukan: ', emails)"
      ],
      "execution_count": null,
      "outputs": [
        {
          "output_type": "stream",
          "name": "stdout",
          "text": [
            "Email yang ditemukan:  ['admin@thenextyunikorn.id', 'sales@yunikornbaru.com', 'hrd@yunikornindo.id']\n"
          ]
        }
      ]
    },
    {
      "cell_type": "markdown",
      "metadata": {
        "id": "oW4i5z3qX2jk"
      },
      "source": [
        "# Pola Nomor Telepon"
      ]
    },
    {
      "cell_type": "code",
      "metadata": {
        "id": "n6bvuA4QSOCh"
      },
      "source": [
        "# Pola telephone : \\d penanda angka di reguler Expression, \\s spasi, dan \"|\" adalah \"atau\"\n",
        "# \"?\" menyatakan pilihan (optional)\n",
        "phone_pattern = re.compile(r'(\\d{3}[-\\.\\s]??\\d{3}[-\\.\\s]??\\d{4,6}|\\(\\d{3}\\)\\s*\\d{3}[-\\.\\s]??\\d{4,6}|\\d{3,4}[-\\.\\s]??\\d{4,6})')\n",
        "\n",
        "txt = 'Contact kami di 021-7632456 atau 021-443-4162 atau 021 797 4524 atau 0822959020 atau +628199258643'"
      ],
      "execution_count": null,
      "outputs": []
    },
    {
      "cell_type": "code",
      "metadata": {
        "id": "FInY3LDaMDxn",
        "outputId": "e436ce6c-0838-4e39-96a1-2c8ec6ac0a15",
        "colab": {
          "base_uri": "https://localhost:8080/"
        }
      },
      "source": [
        "# Sensor *** untuk pola Nomor Telepon\n",
        "print(re.sub(phone_pattern,'***',txt))"
      ],
      "execution_count": null,
      "outputs": [
        {
          "output_type": "stream",
          "name": "stdout",
          "text": [
            "Contact kami di *** atau *** atau *** atau *** atau +***\n"
          ]
        }
      ]
    },
    {
      "cell_type": "code",
      "metadata": {
        "id": "eRAXR0apSsqN",
        "outputId": "bca78709-a19b-44f5-a449-7c873cfb0170",
        "colab": {
          "base_uri": "https://localhost:8080/"
        }
      },
      "source": [
        "# Mengambil nomor telepon dari teks berdasarkan pola regex yang telah ditentukan\n",
        "phone_numbers = re.findall(phone_pattern,txt)\n",
        "print('Nomer telephone yang ditemukan: ', str(phone_numbers))"
      ],
      "execution_count": null,
      "outputs": [
        {
          "output_type": "stream",
          "name": "stdout",
          "text": [
            "Nomer telephone yang ditemukan:  ['021-7632456', '021-443-4162', '021 797 4524', '0822959020', '628199258643']\n"
          ]
        }
      ]
    },
    {
      "cell_type": "markdown",
      "metadata": {
        "id": "ncMVez6hX5U6"
      },
      "source": [
        "# Pola URL atau Link"
      ]
    },
    {
      "cell_type": "code",
      "metadata": {
        "id": "dvzYKfUtTJBt"
      },
      "source": [
        "# Website URL http(s)\n",
        "url_pattern = re.compile(r'www|http:|https:+[^\\s]+[\\w]')\n",
        "txt = 'Teman teman dapat mengunjungi link berikut untuk sumber belajar: https://www.regular-expressions.info/ atau https://www.towardsdatascience.com atau https://wikipedia.org'\n"
      ],
      "execution_count": null,
      "outputs": []
    },
    {
      "cell_type": "code",
      "metadata": {
        "id": "P-qHHhJVY4Ns",
        "outputId": "c77f4746-43c5-45da-96b3-7f5b4c3ab7b2",
        "colab": {
          "base_uri": "https://localhost:8080/"
        }
      },
      "source": [
        "# Menghapus url pada teks\n",
        "print(re.sub(url_pattern,' ',txt))"
      ],
      "execution_count": null,
      "outputs": [
        {
          "output_type": "stream",
          "name": "stdout",
          "text": [
            "Teman teman dapat mengunjungi link berikut untuk sumber belajar:  / atau   atau  \n"
          ]
        }
      ]
    },
    {
      "cell_type": "code",
      "metadata": {
        "id": "NpUs-ZGbYpsQ",
        "outputId": "e8dff918-d03d-438d-f00d-ab805020bda9",
        "colab": {
          "base_uri": "https://localhost:8080/"
        }
      },
      "source": [
        "# Mengambil url dari teks berdasarkan pola regex yang telah ditentukan\n",
        "urls = re.findall(url_pattern,txt)# get urls\n",
        "print('URL yang ditemukan: ',str(urls))"
      ],
      "execution_count": null,
      "outputs": [
        {
          "output_type": "stream",
          "name": "stdout",
          "text": [
            "URL yang ditemukan:  ['https://www.regular-expressions.info', 'https://www.towardsdatascience.com', 'https://wikipedia.org']\n"
          ]
        }
      ]
    },
    {
      "cell_type": "markdown",
      "metadata": {
        "id": "xHzYEMeZiYPf"
      },
      "source": [
        "# Pola Plat Kendaraan Bermotor"
      ]
    },
    {
      "cell_type": "code",
      "metadata": {
        "id": "DdEdAhAZZIPv"
      },
      "source": [
        "plat_pattern = re.compile(r'[A-Z]{1,2}\\s\\d{1,4}\\s[A-Z]{1,3}')\n",
        "text = \"Mr.X punya 2 motor dan 1 mobil. Adapun plat nomornya yaitu B 234 AA, C 3244 YGS, dan D 3 S.\""
      ],
      "execution_count": null,
      "outputs": []
    },
    {
      "cell_type": "code",
      "metadata": {
        "id": "idDWbJVTjC5u",
        "outputId": "c8ce084c-0737-4f7d-d249-f11023e6f26d",
        "colab": {
          "base_uri": "https://localhost:8080/"
        }
      },
      "source": [
        "# Menghapus plat kendaraan pada teks\n",
        "print(re.sub(plat_pattern, ' ', text))"
      ],
      "execution_count": null,
      "outputs": [
        {
          "output_type": "stream",
          "name": "stdout",
          "text": [
            "Mr.X punya 2 motor dan 1 mobil. Adapun plat nomornya yaitu  ,  , dan  .\n"
          ]
        }
      ]
    },
    {
      "cell_type": "code",
      "metadata": {
        "id": "QpvW1tBCjkYZ",
        "outputId": "185bfc04-41a9-40df-ab9c-6a7f5e1baa5c",
        "colab": {
          "base_uri": "https://localhost:8080/"
        }
      },
      "source": [
        "kumpulan_plat_kendaraan = re.findall(plat_pattern, text)\n",
        "print(kumpulan_plat_kendaraan)"
      ],
      "execution_count": null,
      "outputs": [
        {
          "output_type": "stream",
          "name": "stdout",
          "text": [
            "['B 234 AA', 'C 3244 YGS', 'D 3 S']\n"
          ]
        }
      ]
    },
    {
      "cell_type": "markdown",
      "metadata": {
        "id": "bmPJi8RXmYrS"
      },
      "source": [
        "# Menghilangkan Karakter Khusus"
      ]
    },
    {
      "cell_type": "code",
      "metadata": {
        "id": "Wr_Y9lvTjtrj",
        "outputId": "853c4fb7-4082-43f1-bc6b-3a55deefca9d",
        "colab": {
          "base_uri": "https://localhost:8080/"
        }
      },
      "source": [
        "text = \"Halo @Hyeri, apa kabar? #SapaKawan.\"\n",
        "result = re.sub(r'[@,.?#]', '', text)\n",
        "print(result)"
      ],
      "execution_count": null,
      "outputs": [
        {
          "output_type": "stream",
          "name": "stdout",
          "text": [
            "Halo Hyeri apa kabar SapaKawan\n"
          ]
        }
      ]
    },
    {
      "cell_type": "markdown",
      "metadata": {
        "id": "4vo0N0iKp32y"
      },
      "source": [
        "# Activity\n",
        "**Text Input:**\n",
        "> Halo semua, namaku Andy Joe. Kemarin smartphoneku mendapat SMS tagihan Pinjaman Online dari nomor 08004398499. Selain itu emailku juga mendapatkan pesan serupa dari debtcollector@pinjolninuninu.com. Ternyata salah satu temanku menjadikan nomor telepon dan emailku sebagai penanggungjawab pinjaman onlinenya :(. Tak lama sosok pria berbadan bongsor datang ke rumahku dengan menggunakan mogenya. Ia menanyakan keberadaan temanku yang meminjam uang di perusahaan Pinjol tersebut. Aku yang tak tahu keberadaannya pun menjawab apa adanya. Tak lama kemudian pria tersebut pergi dan segera kuambil gambar mogenya dengan  plat PO 3030 AY. Setelah itu aku menghubungi temanku dan meminta penjelasan kepadanya.\n",
        ">\n",
        "---\n",
        "1. Buatlah format pesan kepada teman Andy Joe untuk meminta penjelasan terkait dengan situasi yang sedang terjadi. (ganti teks yang cetak miring dan tebal menjadi nomor debtcollector, email debtcollector dan plat nomor)\n",
        ">\n",
        "\n",
        "**Format Pesan:**\n",
        "> \"*Halo xxxxx, Aku tadi habis didatangi debtcollector. Dia mengirimiku pesan lewat nomornya yaitu **nomor_debtcollector** dan email **email_debtcollector**. Dia bilang kamu jadiin nomorku dan emailku sebagai penanggungjawab. Bisa tolong jelasin? Terus aku tadi juga sempet foto motor yg dipake mas debtcollector. Plat nomornya **plat_nomor_debtcollector**.*\"\n",
        "\n",
        "\n",
        "2. Buatlah preprocessing sederhana dengan menghilangkan karakter titik, koma dan tanda tanya dari format pesan yang sudah dibuat (Di nomor 1)"
      ]
    },
    {
      "cell_type": "code",
      "metadata": {
        "id": "IGWvnlpwoP8f"
      },
      "source": [
        "text = \"Halo semua, namaku Andy Joe. Kemarin smartphoneku mendapat SMS tagihan Pinjaman Online dari nomor 08004398499. Selain itu emailku juga mendapatkan pesan serupa dari debtcollector@pinjolninuninu.com. Ternyata salah satu temanku menjadikan nomor telepon dan emailku sebagai penanggungjawab pinjaman onlinenya :(. Tak lama sosok pria berbadan bongsor datang ke rumahku dengan menggunakan mogenya. Ia menanyakan keberadaan temanku yang meminjam uang di perusahaan Pinjol tersebut. Aku yang tak tahu keberadaannya pun menjawab apa adanya. Tak lama kemudian pria tersebut pergi dan segera kuambil gambar mogenya dengan plat PO 3030 AY. Setelah itu aku menghubungi temanku dan meminta penjelasan kepadanya.\""
      ],
      "execution_count": null,
      "outputs": []
    },
    {
      "cell_type": "code",
      "source": [
        "print(text)"
      ],
      "metadata": {
        "colab": {
          "base_uri": "https://localhost:8080/"
        },
        "id": "aufAF-AbDaMY",
        "outputId": "c3fb1a9b-53f0-4cd5-b203-040ec8783b4f"
      },
      "execution_count": null,
      "outputs": [
        {
          "output_type": "stream",
          "name": "stdout",
          "text": [
            "Halo semua, namaku Andy Joe. Kemarin smartphoneku mendapat SMS tagihan Pinjaman Online dari nomor 08004398499. Selain itu emailku juga mendapatkan pesan serupa dari debtcollector@pinjolninuninu.com. Ternyata salah satu temanku menjadikan nomor telepon dan emailku sebagai penanggungjawab pinjaman onlinenya :(. Tak lama sosok pria berbadan bongsor datang ke rumahku dengan menggunakan mogenya. Ia menanyakan keberadaan temanku yang meminjam uang di perusahaan Pinjol tersebut. Aku yang tak tahu keberadaannya pun menjawab apa adanya. Tak lama kemudian pria tersebut pergi dan segera kuambil gambar mogenya dengan plat PO 3030 AY. Setelah itu aku menghubungi temanku dan meminta penjelasan kepadanya.\n"
          ]
        }
      ]
    },
    {
      "cell_type": "code",
      "metadata": {
        "id": "zaHCCY6RsvqU",
        "outputId": "f991c295-0cdd-4b60-f32b-16cb8c75b52a",
        "colab": {
          "base_uri": "https://localhost:8080/"
        }
      },
      "source": [
        "# Jawaban Nomor 1\n",
        "import re #import library regex\n",
        "\n",
        "# Ambil nomor debt collector dari text input\n",
        "phone_pattern = re.compile(r'(\\d{3}[-\\.\\s]??\\d{3}[-\\.\\s]??\\d{4,6}|\\(\\d{3}\\)\\s*\\d{3}[-\\.\\s]??\\d{4,6}|\\d{3,4}[-\\.\\s]??\\d{4,6})')\n",
        "nomor_debtcollector = re.findall(phone_pattern,text)\n",
        "nomor_debtcollector = str(nomor_debtcollector)\n",
        "print('Nomer telephone yang ditemukan: ', nomor_debtcollector)\n",
        "\n",
        "# Ambil email debt collector dari text input\n",
        "email_pattern = re.compile(r'[\\w._%+-]+@[\\w\\.-]+\\.[a-zA-Z]{2,4}')\n",
        "email_debtcollector = re.findall(email_pattern,text)\n",
        "email_debtcollector = str(email_debtcollector)\n",
        "print('email: ', email_debtcollector)\n",
        "\n",
        "# Ambil plat nomor debt collector dari text input\n",
        "plat_pattern = re.compile(r'[A-Z]{1,2}\\s\\d{1,4}\\s[A-Z]{1,3}')\n",
        "plat_nomor_debtcollector = re.findall(plat_pattern,text)\n",
        "plat_nomor_debtcollector = str(plat_nomor_debtcollector)\n",
        "print('email: ', plat_nomor_debtcollector)\n"
      ],
      "execution_count": null,
      "outputs": [
        {
          "output_type": "stream",
          "name": "stdout",
          "text": [
            "Nomer telephone yang ditemukan:  ['08004398499']\n",
            "email:  ['debtcollector@pinjolninuninu.com']\n",
            "email:  ['PO 3030 AY']\n"
          ]
        }
      ]
    },
    {
      "cell_type": "code",
      "source": [
        "\n",
        "#print(format_pesan)\n",
        "new_msg = \"Halo xxxxx, Aku tadi habis didatangi debtcollector. Dia mengirimiku pesan lewat nomornya yaitu {}\".format(nomor_debtcollector) + \" dan email {}\".format(email_debtcollector)+\". Dia bilang kamu jadiin nomorku dan emailku sebagai penanggungjawab. Bisa tolong jelasin? Terus aku tadi juga sempet foto motor yg dipake mas debtcollector. Plat nomornya {}\".format(plat_nomor_debtcollector)+\".\"\n",
        "\n",
        "print (new_msg)\n"
      ],
      "metadata": {
        "colab": {
          "base_uri": "https://localhost:8080/"
        },
        "id": "Gd5SL5B5DrYN",
        "outputId": "b6f9122b-b868-4adf-aee2-7dc7de3bcc8f"
      },
      "execution_count": null,
      "outputs": [
        {
          "output_type": "stream",
          "name": "stdout",
          "text": [
            "Halo xxxxx, Aku tadi habis didatangi debtcollector. Dia mengirimiku pesan lewat nomornya yaitu ['08004398499'] dan email ['debtcollector@pinjolninuninu.com']. Dia bilang kamu jadiin nomorku dan emailku sebagai penanggungjawab. Bisa tolong jelasin? Terus aku tadi juga sempet foto motor yg dipake mas debtcollector. Plat nomornya ['PO 3030 AY'].\n"
          ]
        }
      ]
    },
    {
      "cell_type": "code",
      "metadata": {
        "id": "da6pqZ6s3B7_",
        "colab": {
          "base_uri": "https://localhost:8080/"
        },
        "outputId": "be11691c-a9e3-4003-8e81-d0ae8ee252e7"
      },
      "source": [
        "# Jawaban Nomor 2\n",
        "result = re.sub(r'[,.?]', '', new_msg)\n",
        "\n",
        "print(result)"
      ],
      "execution_count": null,
      "outputs": [
        {
          "output_type": "stream",
          "name": "stdout",
          "text": [
            "Halo xxxxx Aku tadi habis didatangi debtcollector Dia mengirimiku pesan lewat nomornya yaitu ['08004398499'] dan email ['debtcollector@pinjolninuninucom'] Dia bilang kamu jadiin nomorku dan emailku sebagai penanggungjawab Bisa tolong jelasin Terus aku tadi juga sempet foto motor yg dipake mas debtcollector Plat nomornya ['PO 3030 AY']\n"
          ]
        }
      ]
    }
  ]
}